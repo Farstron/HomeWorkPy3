{
 "cells": [
  {
   "cell_type": "code",
   "execution_count": 4,
   "id": "db4ee641",
   "metadata": {},
   "outputs": [
    {
     "name": "stdout",
     "output_type": "stream",
     "text": [
      "Ответ: 12\n"
     ]
    }
   ],
   "source": [
    "lis = [1,2,3,4,5,6]\n",
    "i = 0\n",
    "sum = 0\n",
    "while i<len(lis):\n",
    "    if i % 2 == 1:\n",
    "        sum += lis[i]\n",
    "    i+=1\n",
    "print('Ответ:',sum)"
   ]
  },
  {
   "cell_type": "code",
   "execution_count": 8,
   "id": "5728ed3b",
   "metadata": {},
   "outputs": [
    {
     "name": "stdout",
     "output_type": "stream",
     "text": [
      "[7, 12, 15]\n"
     ]
    }
   ],
   "source": [
    "lis = [1,2,3,4,5,6,7]\n",
    "i = 0\n",
    "res_lis = []\n",
    "while i<len(lis)//2:\n",
    "    res_lis.append(lis[i]*lis[len(lis)-1-i])\n",
    "    i+=1\n",
    "if len(lis)%2 == 1:\n",
    "    res_lis.append(lis[i]**2)\n",
    "print(res_lis)"
   ]
  },
  {
   "cell_type": "code",
   "execution_count": 34,
   "id": "45496cfc",
   "metadata": {},
   "outputs": [
    {
     "name": "stdout",
     "output_type": "stream",
     "text": [
      "0.1\n",
      "0.399\n"
     ]
    }
   ],
   "source": [
    "lis = [1.1,2.2,3.001,4.4]\n",
    "min = round(lis[0] - round(lis[0]),10)\n",
    "print(min)\n",
    "max = round(lis[0] - round(lis[0]),10)\n",
    "for i in lis:\n",
    "    if min > round(i - round(i),10):\n",
    "        min = round(i - round(i),10)\n",
    "    if max < round(i - round(i),10):\n",
    "        max = round(i - round(i),10)\n",
    "print(max-min)"
   ]
  },
  {
   "cell_type": "code",
   "execution_count": 54,
   "id": "cf303386",
   "metadata": {},
   "outputs": [
    {
     "name": "stdout",
     "output_type": "stream",
     "text": [
      "Введите десятичное число:3\n",
      "11\n"
     ]
    }
   ],
   "source": [
    "def to_double(num,res = 0,i = 0):\n",
    "    if num!=0:\n",
    "        return to_double(num//2,res+num%2*10**i,i+1)\n",
    "    return res+num%2*10\n",
    "num = int(input('Введите десятичное число:'))\n",
    "print(to_double(num))"
   ]
  },
  {
   "cell_type": "code",
   "execution_count": 81,
   "id": "445ee5ba",
   "metadata": {},
   "outputs": [
    {
     "name": "stdout",
     "output_type": "stream",
     "text": [
      "Введите десятичное число:8\n",
      "[-21, 13, -8, 5, -3, 2, -1, 1, 0, 1, 1, 2, 3, 5, 8, 13, 21]\n"
     ]
    }
   ],
   "source": [
    "def fib(k,fib_lis=[1,0,1],pos=2):\n",
    "    if k!=1:\n",
    "        fib_lis.append(fib_lis[pos]+fib_lis[pos-1])\n",
    "        fib_lis.reverse()\n",
    "        pos+=1\n",
    "        fib_lis.append(fib_lis[pos-1]-fib_lis[pos])\n",
    "        fib_lis.reverse()\n",
    "        return fib(k-1,fib_lis,pos+1)\n",
    "    return fib_lis\n",
    "k = int(input('Введите десятичное число:'))\n",
    "print(fib(k))"
   ]
  }
 ],
 "metadata": {
  "kernelspec": {
   "display_name": "Python 3 (ipykernel)",
   "language": "python",
   "name": "python3"
  },
  "language_info": {
   "codemirror_mode": {
    "name": "ipython",
    "version": 3
   },
   "file_extension": ".py",
   "mimetype": "text/x-python",
   "name": "python",
   "nbconvert_exporter": "python",
   "pygments_lexer": "ipython3",
   "version": "3.9.12"
  }
 },
 "nbformat": 4,
 "nbformat_minor": 5
}
